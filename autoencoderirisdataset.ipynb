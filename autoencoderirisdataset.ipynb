{
  "nbformat": 4,
  "nbformat_minor": 0,
  "metadata": {
    "colab": {
      "private_outputs": true,
      "provenance": []
    },
    "kernelspec": {
      "name": "python3",
      "display_name": "Python 3"
    },
    "language_info": {
      "name": "python"
    }
  },
  "cells": [
    {
      "cell_type": "code",
      "execution_count": null,
      "metadata": {
        "id": "SfWCgRH4ayXa"
      },
      "outputs": [],
      "source": [
        "from sklearn.datasets import load_iris\n",
        "from sklearn.preprocessing import StandardScaler\n",
        "import numpy as np\n",
        "import tensorflow as tf\n",
        "from tensorflow import keras\n",
        "from tensorflow.keras import layers\n",
        "\n",
        "# Load and preprocess the Iris dataset\n",
        "iris_data = load_iris()\n",
        "X = iris_data.data\n",
        "X = StandardScaler().fit_transform(X)\n",
        "\n",
        "# Define the autoencoder architecture\n",
        "input_dim = X.shape[1]\n",
        "latent_dim = 2\n",
        "\n",
        "input_layer = keras.Input(shape=(input_dim,))\n",
        "encoder = layers.Dense(latent_dim, activation=\"relu\")(input_layer)\n",
        "decoder = layers.Dense(input_dim, activation=\"sigmoid\")(encoder)\n",
        "\n",
        "autoencoder = keras.Model(input_layer, decoder)\n",
        "\n",
        "# Train the autoencoder\n",
        "autoencoder.compile(optimizer=\"adam\", loss=\"mse\")\n",
        "autoencoder.fit(X, X, epochs=100)\n",
        "\n",
        "# Extract the learned embeddings\n",
        "encoder_model = keras.Model(input_layer, encoder)\n",
        "embeddings = encoder_model.predict(X)\n"
      ]
    }
  ]
}